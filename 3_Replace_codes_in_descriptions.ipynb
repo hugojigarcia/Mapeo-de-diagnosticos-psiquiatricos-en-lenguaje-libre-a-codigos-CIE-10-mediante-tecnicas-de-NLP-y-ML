{
  "cells": [
    {
      "cell_type": "markdown",
      "metadata": {},
      "source": [
        "## 0. Libraries 📚"
      ]
    },
    {
      "cell_type": "code",
      "execution_count": null,
      "metadata": {},
      "outputs": [],
      "source": [
        "import pandas as pd\n",
        "import ast\n",
        "from utils import read_cie10_file"
      ]
    },
    {
      "cell_type": "markdown",
      "metadata": {},
      "source": [
        "## 1. Load data 📥"
      ]
    },
    {
      "cell_type": "code",
      "execution_count": null,
      "metadata": {},
      "outputs": [],
      "source": [
        "diagnoses_df = pd.read_csv(\"data/ground_truth_df.csv\")\n",
        "diagnoses_df['Codigos_diagnosticos'] = diagnoses_df['Codigos_diagnosticos'].apply(lambda x: ast.literal_eval(x) if isinstance(x, str) else [])\n",
        "diagnoses_df['Diagnosticos_estandar'] = diagnoses_df['Diagnosticos_estandar'].apply(lambda x: ast.literal_eval(x) if isinstance(x, str) else [])\n",
        "diagnoses_df"
      ]
    },
    {
      "cell_type": "code",
      "execution_count": null,
      "metadata": {},
      "outputs": [],
      "source": [
        "cie10_map = read_cie10_file(\"data/diagnosticos_tipos.csv\")\n",
        "cie10_codes_list = set(cie10_map.keys())"
      ]
    },
    {
      "cell_type": "markdown",
      "metadata": {},
      "source": [
        "## 2. CIE-10 and CIE-9 filters methods"
      ]
    },
    {
      "cell_type": "code",
      "execution_count": null,
      "metadata": {},
      "outputs": [],
      "source": [
        "CIE10_FILTER = r'\\b[Ff]+\\d+(?:\\.\\d+)?\\b'\n",
        "CIE9_FILTER  = r'\\d+(?:\\.\\d+)?'"
      ]
    },
    {
      "cell_type": "code",
      "execution_count": null,
      "metadata": {},
      "outputs": [],
      "source": [
        "import re\n",
        "\n",
        "def cie10_filter(text):\n",
        "    return bool(re.search(CIE10_FILTER, text))\n",
        "\n",
        "tests = [\n",
        "    \"I am 23 years old\",\n",
        "    \"Code F32.1\",\n",
        "    \"Code F2.1\",\n",
        "    \"Something else f10\",\n",
        "    \"The grade was 3.14\",\n",
        "    \"FF10\",\n",
        "    \"abc12\"\n",
        "]\n",
        "\n",
        "for s in tests:\n",
        "    print(f\"{s!r:20} → {cie10_filter(s)}\")"
      ]
    },
    {
      "cell_type": "code",
      "execution_count": null,
      "metadata": {},
      "outputs": [],
      "source": [
        "import re\n",
        "\n",
        "def cie9_filter(text):\n",
        "    cie10_filter = re.compile(CIE10_FILTER)\n",
        "    cie9_filter  = re.compile(CIE9_FILTER)\n",
        "    no_cie10_codes = cie10_filter.sub(' ', text)\n",
        "    return bool(cie9_filter.search(no_cie10_codes))\n",
        "\n",
        "tests = [\n",
        "    \"I am 23 years old\",\n",
        "    \"Code F32.1\",\n",
        "    \"Code F2.1\",\n",
        "    \"Something else f10\",\n",
        "    \"The grade was 3.14\",\n",
        "    \"FF10\",\n",
        "    \"abc12\"\n",
        "]\n",
        "\n",
        "for s in tests:\n",
        "    print(f\"{s!r:20} → {cie9_filter(s)}\")"
      ]
    },
    {
      "cell_type": "markdown",
      "metadata": {},
      "source": [
        "## 3. Extract CIE-10 and CIE-9 codes methods"
      ]
    },
    {
      "cell_type": "code",
      "execution_count": null,
      "metadata": {},
      "outputs": [],
      "source": [
        "import re\n",
        "from utils import clean_cie10_code\n",
        "\n",
        "def extract_cie10_codes(text: str) -> list[str]:\n",
        "    pattern = re.compile(CIE10_FILTER)\n",
        "    codes = pattern.findall(text)\n",
        "    return [clean_cie10_code(code) for code in codes]\n",
        "\n",
        "\n",
        "def extract_cie9_codes(text: str) -> list[str]:\n",
        "    cie10_pattern = re.compile(CIE10_FILTER)\n",
        "    text_without_cie10 = cie10_pattern.sub(' ', text)\n",
        "\n",
        "    cie9_pattern = re.compile(CIE9_FILTER)\n",
        "    return cie9_pattern.findall(text_without_cie10)"
      ]
    },
    {
      "cell_type": "markdown",
      "metadata": {},
      "source": [
        "## 4. Process CIE-10 codes"
      ]
    },
    {
      "cell_type": "code",
      "execution_count": null,
      "metadata": {},
      "outputs": [],
      "source": [
        "cie10_list = pd.read_csv('data/cie10_list.csv', delimiter=';')\n",
        "cie10_dict = cie10_list.set_index('Código')['Descripción'].to_dict()\n",
        "cie10_dict"
      ]
    },
    {
      "cell_type": "code",
      "execution_count": null,
      "metadata": {},
      "outputs": [],
      "source": [
        "# Filas con códigos tipo F seguido de números y un punto decimal\n",
        "rows_with_cie10 = diagnoses_df[diagnoses_df['Descripcion_diagnosticos'].apply(cie10_filter)].copy()\n",
        "rows_with_cie10"
      ]
    },
    {
      "cell_type": "code",
      "execution_count": null,
      "metadata": {},
      "outputs": [],
      "source": [
        "rows_with_cie10['Extracted_codes'] = rows_with_cie10['Descripcion_diagnosticos'].apply(extract_cie10_codes)\n",
        "rows_with_cie10"
      ]
    },
    {
      "cell_type": "code",
      "execution_count": null,
      "metadata": {},
      "outputs": [],
      "source": [
        "for index, row in rows_with_cie10.iterrows():\n",
        "    codes = row[\"Extracted_codes\"]\n",
        "    description = row[\"Descripcion_diagnosticos\"]\n",
        "    for code in codes:\n",
        "        code_key = code[:-2] if code.endswith('.0') else code # Remove .0 from FX.0 codes\n",
        "        code_description = cie10_dict.get(code_key, None)\n",
        "        if code_description is not None:\n",
        "            description = description.replace(code, code_description)\n",
        "    rows_with_cie10.at[index, \"Descripcion_diagnosticos\"] = description\n",
        "\n",
        "rows_with_cie10"
      ]
    },
    {
      "cell_type": "code",
      "execution_count": null,
      "metadata": {},
      "outputs": [],
      "source": [
        "diagnoses_df['Descripcion_diagnosticos'].update(rows_with_cie10['Descripcion_diagnosticos'])\n",
        "diagnoses_df"
      ]
    },
    {
      "cell_type": "markdown",
      "metadata": {},
      "source": [
        "## 5. Process CIE-9 codes"
      ]
    },
    {
      "cell_type": "code",
      "execution_count": null,
      "metadata": {},
      "outputs": [],
      "source": [
        "cie9_list = pd.read_csv('data/cie9_list.csv', delimiter=';')\n",
        "cie9_dict = cie9_list.set_index('CIE9')['LITERAL9'].to_dict()\n",
        "cie9_dict"
      ]
    },
    {
      "cell_type": "code",
      "execution_count": null,
      "metadata": {},
      "outputs": [],
      "source": [
        "# Filas con códigos tipo X.X que no están precedidos por 'F'\n",
        "rows_with_cie9 = diagnoses_df[diagnoses_df['Descripcion_diagnosticos'].apply(cie9_filter)].copy()\n",
        "rows_with_cie9"
      ]
    },
    {
      "cell_type": "code",
      "execution_count": null,
      "metadata": {},
      "outputs": [],
      "source": [
        "rows_with_cie9['Extracted_codes'] = rows_with_cie9['Descripcion_diagnosticos'].apply(extract_cie9_codes)\n",
        "rows_with_cie9"
      ]
    },
    {
      "cell_type": "code",
      "execution_count": null,
      "metadata": {},
      "outputs": [],
      "source": [
        "for index, row in rows_with_cie9.iterrows():\n",
        "    codes = row[\"Extracted_codes\"]\n",
        "    description = row[\"Descripcion_diagnosticos\"]\n",
        "    for code in codes:\n",
        "        code_key = code.replace('.', '')[:4]\n",
        "        code_description = cie9_dict.get(code_key, None)\n",
        "        if code_description is not None:\n",
        "            description = description.replace(code, code_description)\n",
        "    rows_with_cie9.at[index, \"Descripcion_diagnosticos\"] = description\n",
        "\n",
        "rows_with_cie9"
      ]
    },
    {
      "cell_type": "code",
      "execution_count": null,
      "metadata": {},
      "outputs": [],
      "source": [
        "diagnoses_df['Descripcion_diagnosticos'].update(rows_with_cie9['Descripcion_diagnosticos'])\n",
        "diagnoses_df"
      ]
    },
    {
      "cell_type": "markdown",
      "metadata": {},
      "source": [
        "## 6. Clean 'Descripcion_diagnosticos'"
      ]
    },
    {
      "cell_type": "code",
      "execution_count": null,
      "metadata": {},
      "outputs": [],
      "source": [
        "import pandas as pd\n",
        "import re\n",
        "import unicodedata\n",
        "\n",
        "def clean_text(text):\n",
        "    # Convert to string and lowercase\n",
        "    text = str(text).lower()\n",
        "\n",
        "    # Remove accents and diacritics\n",
        "    text = unicodedata.normalize('NFKD', text).encode('ASCII', 'ignore').decode('utf-8')\n",
        "\n",
        "    # Replace newlines, tabs, and multiple spaces with a single space\n",
        "    text = re.sub(r'\\s+', ' ', text)\n",
        "\n",
        "    # Remove special characters but keep letters, numbers, spaces, and periods\n",
        "    text = re.sub(r'[^a-zñ0-9. ]', '', text)\n",
        "\n",
        "    # Trim leading and trailing whitespace\n",
        "    text = text.strip()\n",
        "\n",
        "    return text\n",
        "\n",
        "diagnoses_df['Descripcion_diagnosticos_limpio'] = diagnoses_df['Descripcion_diagnosticos'].apply(clean_text)\n",
        "diagnoses_df"
      ]
    },
    {
      "cell_type": "markdown",
      "metadata": {},
      "source": [
        "## 7. Save results"
      ]
    },
    {
      "cell_type": "code",
      "execution_count": null,
      "metadata": {},
      "outputs": [],
      "source": [
        "diagnoses_df.to_csv(\"data/ground_truth_df.csv\", index=False)"
      ]
    }
  ],
  "metadata": {
    "kernelspec": {
      "display_name": "venv",
      "language": "python",
      "name": "python3"
    },
    "language_info": {
      "codemirror_mode": {
        "name": "ipython",
        "version": 3
      },
      "file_extension": ".py",
      "mimetype": "text/x-python",
      "name": "python",
      "nbconvert_exporter": "python",
      "pygments_lexer": "ipython3",
      "version": "3.11.0rc1"
    }
  },
  "nbformat": 4,
  "nbformat_minor": 2
}
